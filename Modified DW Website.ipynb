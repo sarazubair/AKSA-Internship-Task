{
 "cells": [
  {
   "cell_type": "code",
   "execution_count": 1,
   "id": "4e9e1045",
   "metadata": {},
   "outputs": [
    {
     "name": "stdout",
     "output_type": "stream",
     "text": [
      "Requirement already satisfied: feedparser in c:\\users\\pmls\\anaconda3\\lib\\site-packages (6.0.11)\n",
      "Requirement already satisfied: beautifulsoup4 in c:\\users\\pmls\\anaconda3\\lib\\site-packages (4.12.2)\n",
      "Requirement already satisfied: pandas in c:\\users\\pmls\\anaconda3\\lib\\site-packages (2.0.3)\n",
      "Requirement already satisfied: requests in c:\\users\\pmls\\anaconda3\\lib\\site-packages (2.31.0)\n",
      "Requirement already satisfied: sgmllib3k in c:\\users\\pmls\\anaconda3\\lib\\site-packages (from feedparser) (1.0.0)\n",
      "Requirement already satisfied: soupsieve>1.2 in c:\\users\\pmls\\anaconda3\\lib\\site-packages (from beautifulsoup4) (2.4)\n",
      "Requirement already satisfied: python-dateutil>=2.8.2 in c:\\users\\pmls\\anaconda3\\lib\\site-packages (from pandas) (2.8.2)\n",
      "Requirement already satisfied: pytz>=2020.1 in c:\\users\\pmls\\anaconda3\\lib\\site-packages (from pandas) (2023.3.post1)\n",
      "Requirement already satisfied: tzdata>=2022.1 in c:\\users\\pmls\\anaconda3\\lib\\site-packages (from pandas) (2023.3)\n",
      "Requirement already satisfied: numpy>=1.21.0 in c:\\users\\pmls\\anaconda3\\lib\\site-packages (from pandas) (1.24.3)\n",
      "Requirement already satisfied: charset-normalizer<4,>=2 in c:\\users\\pmls\\anaconda3\\lib\\site-packages (from requests) (2.0.4)\n",
      "Requirement already satisfied: idna<4,>=2.5 in c:\\users\\pmls\\anaconda3\\lib\\site-packages (from requests) (3.4)\n",
      "Requirement already satisfied: urllib3<3,>=1.21.1 in c:\\users\\pmls\\anaconda3\\lib\\site-packages (from requests) (2.5.0)\n",
      "Requirement already satisfied: certifi>=2017.4.17 in c:\\users\\pmls\\anaconda3\\lib\\site-packages (from requests) (2025.7.14)\n",
      "Requirement already satisfied: six>=1.5 in c:\\users\\pmls\\anaconda3\\lib\\site-packages (from python-dateutil>=2.8.2->pandas) (1.16.0)\n"
     ]
    }
   ],
   "source": [
    "!pip install feedparser beautifulsoup4 pandas requests"
   ]
  },
  {
   "cell_type": "code",
   "execution_count": 2,
   "id": "49b3d79b",
   "metadata": {},
   "outputs": [],
   "source": [
    "import feedparser\n",
    "import pandas as pd\n",
    "import requests\n",
    "from bs4 import BeautifulSoup\n",
    "from datetime import datetime\n"
   ]
  },
  {
   "cell_type": "code",
   "execution_count": 3,
   "id": "5de600b4",
   "metadata": {},
   "outputs": [],
   "source": [
    "def get_full_description(url):\n",
    "    try:\n",
    "        response = requests.get(url, timeout=10)\n",
    "        soup = BeautifulSoup(response.text, 'html.parser')\n",
    "        paragraphs = soup.select(\"div.rich-text p, .bodyTxt p, .group p\")\n",
    "        full_text = \" \".join(p.get_text(strip=True) for p in paragraphs if p.get_text(strip=True))\n",
    "        return full_text\n",
    "    except Exception as e:\n",
    "        return f\"Failed to fetch full text: {str(e)}\""
   ]
  },
  {
   "cell_type": "code",
   "execution_count": 4,
   "id": "43ec983c",
   "metadata": {},
   "outputs": [],
   "source": [
    "def extract_date(entry):\n",
    "    for key in ['published', 'updated', 'dc:date']:\n",
    "        if key in entry:\n",
    "            try:\n",
    "                return datetime(*entry.published_parsed[:6]).strftime(\"%Y-%m-%d\")\n",
    "            except Exception:\n",
    "                return entry.get(key, \"N/A\")\n",
    "    return \"N/A\""
   ]
  },
  {
   "cell_type": "code",
   "execution_count": 5,
   "id": "caf49c75",
   "metadata": {},
   "outputs": [],
   "source": [
    "def scrape_dw_rss(rss_urls):\n",
    "    articles = []\n",
    "    for feed_url in rss_urls:\n",
    "        print(f\"📡 Reading feed: {feed_url}\")\n",
    "        feed = feedparser.parse(feed_url)\n",
    "        for entry in feed.entries:\n",
    "            title = entry.get(\"title\", \"\").replace('\\n', ' ').strip()\n",
    "            url = entry.get(\"link\", \"\").strip()\n",
    "            summary = BeautifulSoup(entry.get(\"summary\", \"\"), \"html.parser\").get_text().strip()\n",
    "            date = extract_date(entry)\n",
    "            full_text = get_full_description(url)\n",
    "\n",
    "            articles.append({\n",
    "                \"Title\": title,\n",
    "                \"Url\": url,\n",
    "                \"Date\": date,\n",
    "                \"Description\": full_text if full_text else summary\n",
    "            })\n",
    "    return articles"
   ]
  },
  {
   "cell_type": "code",
   "execution_count": 6,
   "id": "52ba1004",
   "metadata": {},
   "outputs": [],
   "source": [
    "def scrape_dw_headlines():\n",
    "    url = \"https://www.dw.com/en/headlines/headlines-en\"\n",
    "    print(f\"🌐 Scraping headlines from: {url}\")\n",
    "    articles = []\n",
    "\n",
    "    try:\n",
    "        response = requests.get(url, timeout=10)\n",
    "        soup = BeautifulSoup(response.text, 'html.parser')\n",
    "        items = soup.select(\"a.headline\")\n",
    "\n",
    "        for item in items:\n",
    "            link = item.get(\"href\")\n",
    "            full_url = f\"https://www.dw.com{link}\" if link.startswith(\"/\") else link\n",
    "            title = item.get_text(strip=True)\n",
    "\n",
    "            full_text = get_full_description(full_url)\n",
    "\n",
    "            articles.append({\n",
    "                \"Title\": title,\n",
    "                \"Url\": full_url,\n",
    "                \"Date\": datetime.today().strftime(\"%Y-%m-%d\"),\n",
    "                \"Description\": full_text\n",
    "            })\n",
    "    except Exception as e:\n",
    "        print(f\"❌ Failed to scrape headlines: {e}\")\n",
    "\n",
    "    return articles"
   ]
  },
  {
   "cell_type": "code",
   "execution_count": 7,
   "id": "96b54834",
   "metadata": {},
   "outputs": [
    {
     "name": "stdout",
     "output_type": "stream",
     "text": [
      "📡 Reading feed: https://rss.dw.com/rdf/rss-en-world\n",
      "📡 Reading feed: https://rss.dw.com/rdf/rss-en-europe\n",
      "📡 Reading feed: https://rss.dw.com/rdf/rss-en-germany\n",
      "📡 Reading feed: https://rss.dw.com/rdf/rss-en-business\n",
      "📡 Reading feed: https://rss.dw.com/rdf/rss-en-politics\n",
      "📡 Reading feed: https://rss.dw.com/rdf/rss-en-science\n",
      "📡 Reading feed: https://rss.dw.com/rdf/rss-en-top-stories\n",
      "🌐 Scraping headlines from: https://www.dw.com/en/headlines/headlines-en\n",
      "\n",
      "✅ Done! 25 articles saved to 'dw_all_articles_combined.csv'\n"
     ]
    }
   ],
   "source": [
    "# ✅ RSS Feeds\n",
    "rss_feeds = [\n",
    "    \"https://rss.dw.com/rdf/rss-en-world\",\n",
    "    \"https://rss.dw.com/rdf/rss-en-europe\",\n",
    "    \"https://rss.dw.com/rdf/rss-en-germany\",\n",
    "    \"https://rss.dw.com/rdf/rss-en-business\",\n",
    "    \"https://rss.dw.com/rdf/rss-en-politics\",\n",
    "    \"https://rss.dw.com/rdf/rss-en-science\",\n",
    "    \"https://rss.dw.com/rdf/rss-en-top-stories\"\n",
    "]\n",
    "\n",
    "# 🚀 Run both scrapers\n",
    "rss_data = scrape_dw_rss(rss_feeds)\n",
    "headlines_data = scrape_dw_headlines()\n",
    "\n",
    "# 🧩 Combine both\n",
    "combined_data = rss_data + headlines_data\n",
    "df = pd.DataFrame(combined_data)\n",
    "\n",
    "# 🧼 Clean and structure\n",
    "df = df[[\"Title\", \"Url\", \"Date\", \"Description\"]]\n",
    "df[\"Description\"] = df[\"Description\"].str.replace('\\n', ' ').str.replace('\\r', ' ').str.strip()\n",
    "\n",
    "# 💾 Save to CSV\n",
    "df.to_csv(\"dw_all_articles_combined.csv\", index=False, encoding=\"utf-8-sig\", quoting=1)\n",
    "\n",
    "print(f\"\\n✅ Done! {len(df)} articles saved to 'dw_all_articles_combined.csv'\")\n"
   ]
  },
  {
   "cell_type": "code",
   "execution_count": null,
   "id": "9e385b9c",
   "metadata": {},
   "outputs": [],
   "source": []
  }
 ],
 "metadata": {
  "kernelspec": {
   "display_name": "Python 3 (ipykernel)",
   "language": "python",
   "name": "python3"
  },
  "language_info": {
   "codemirror_mode": {
    "name": "ipython",
    "version": 3
   },
   "file_extension": ".py",
   "mimetype": "text/x-python",
   "name": "python",
   "nbconvert_exporter": "python",
   "pygments_lexer": "ipython3",
   "version": "3.11.5"
  }
 },
 "nbformat": 4,
 "nbformat_minor": 5
}
