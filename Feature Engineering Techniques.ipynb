{
 "cells": [
  {
   "cell_type": "code",
   "execution_count": 1,
   "id": "ba471402",
   "metadata": {},
   "outputs": [
    {
     "name": "stdout",
     "output_type": "stream",
     "text": [
      "    Age   Salary\n",
      "0  25.0  50000.0\n",
      "1  27.0  54000.0\n",
      "2  29.0  58000.0\n",
      "3  35.0  56000.0\n",
      "4  29.0  62000.0\n"
     ]
    }
   ],
   "source": [
    "# Missing Value Imputation\n",
    "import pandas as pd\n",
    "import numpy as np\n",
    "\n",
    "# Example Data\n",
    "df = pd.DataFrame({\n",
    "    'Age': [25, 27, np.nan, 35, 29],\n",
    "    'Salary': [50000, 54000, 58000, None, 62000]\n",
    "})\n",
    "\n",
    "# Impute with mean\n",
    "df['Age'] = df['Age'].fillna(df['Age'].mean())\n",
    "df['Salary'] = df['Salary'].fillna(df['Salary'].median())\n",
    "\n",
    "print(df)"
   ]
  },
  {
   "cell_type": "code",
   "execution_count": 2,
   "id": "74977b8a",
   "metadata": {},
   "outputs": [
    {
     "name": "stdout",
     "output_type": "stream",
     "text": [
      "   Color_Blue  Color_Pink  Color_Red\n",
      "0       False       False       True\n",
      "1        True       False      False\n",
      "2       False        True      False\n",
      "3       False       False       True\n"
     ]
    }
   ],
   "source": [
    "# Encoding Categorical Variables\n",
    "from sklearn.preprocessing import LabelEncoder, OneHotEncoder\n",
    "\n",
    "df = pd.DataFrame({\n",
    "    'Color': ['Red', 'Blue', 'Pink', 'Red']\n",
    "})\n",
    "\n",
    "# One-hot encoding\n",
    "df_encoded = pd.get_dummies(df, columns=['Color'])\n",
    "print(df_encoded)"
   ]
  },
  {
   "cell_type": "code",
   "execution_count": 3,
   "id": "38b3af51",
   "metadata": {},
   "outputs": [
    {
     "name": "stdout",
     "output_type": "stream",
     "text": [
      "[[-1.22474487 -1.29777137]\n",
      " [ 0.          0.16222142]\n",
      " [ 1.22474487  1.13554995]]\n"
     ]
    }
   ],
   "source": [
    "# Feature Scaling (Normalization/Standardization)\n",
    "from sklearn.preprocessing import MinMaxScaler, StandardScaler\n",
    "\n",
    "df = pd.DataFrame({\n",
    "    'Income': [30000, 50000, 70000],\n",
    "    'Age': [25, 37, 45]\n",
    "})\n",
    "\n",
    "scaler = StandardScaler()\n",
    "scaled_df = scaler.fit_transform(df)\n",
    "print(scaled_df)"
   ]
  },
  {
   "cell_type": "code",
   "execution_count": 4,
   "id": "c43e4caf",
   "metadata": {},
   "outputs": [
    {
     "name": "stdout",
     "output_type": "stream",
     "text": [
      "   Income  Log_Income\n",
      "0   30000   10.308953\n",
      "1   50000   10.819778\n",
      "2  100000   11.512925\n"
     ]
    }
   ],
   "source": [
    "# Feature Transformation\n",
    "df = pd.DataFrame({\n",
    "    'Income': [30000, 50000, 100000]\n",
    "})\n",
    "\n",
    "df['Log_Income'] = np.log(df['Income'])\n",
    "print(df)"
   ]
  },
  {
   "cell_type": "code",
   "execution_count": 5,
   "id": "efd34f2b",
   "metadata": {},
   "outputs": [
    {
     "name": "stdout",
     "output_type": "stream",
     "text": [
      "   Total_Sales  Total_Orders  Avg_Order_Value\n",
      "0          100            10             10.0\n",
      "1          200            20             10.0\n",
      "2          300            30             10.0\n"
     ]
    }
   ],
   "source": [
    "# Feature Creation\n",
    "df = pd.DataFrame({\n",
    "    'Total_Sales': [100, 200, 300],\n",
    "    'Total_Orders': [10, 20, 30]\n",
    "})\n",
    "\n",
    "# New feature: Average order value\n",
    "df['Avg_Order_Value'] = df['Total_Sales'] / df['Total_Orders']\n",
    "print(df)"
   ]
  },
  {
   "cell_type": "code",
   "execution_count": 6,
   "id": "eb6154a2",
   "metadata": {},
   "outputs": [
    {
     "name": "stdout",
     "output_type": "stream",
     "text": [
      "   Age Age_Group\n",
      "0   15      Teen\n",
      "1   20     Adult\n",
      "2   30     Adult\n",
      "3   45    Senior\n",
      "4   60    Senior\n"
     ]
    }
   ],
   "source": [
    "# Discretization / Binning\n",
    "df = pd.DataFrame({'Age': [15, 20, 30, 45, 60]})\n",
    "\n",
    "# Binning into categories\n",
    "df['Age_Group'] = pd.cut(df['Age'], bins=[0, 18, 35, 60], labels=['Teen', 'Adult', 'Senior'])\n",
    "print(df)"
   ]
  },
  {
   "cell_type": "code",
   "execution_count": 7,
   "id": "3e89ce2e",
   "metadata": {},
   "outputs": [
    {
     "name": "stdout",
     "output_type": "stream",
     "text": [
      "   Length  Width  Area\n",
      "0       5      2    10\n",
      "1      12      4    48\n",
      "2      15      6    90\n"
     ]
    }
   ],
   "source": [
    "# Interaction Features\n",
    "df = pd.DataFrame({\n",
    "    'Length': [5, 12, 15],\n",
    "    'Width': [2, 4, 6]\n",
    "})\n",
    "\n",
    "# New feature: Area\n",
    "df['Area'] = df['Length'] * df['Width']\n",
    "print(df)"
   ]
  },
  {
   "cell_type": "code",
   "execution_count": 8,
   "id": "e92dbea4",
   "metadata": {},
   "outputs": [
    {
     "name": "stdout",
     "output_type": "stream",
     "text": [
      "[[ 1.  1.]\n",
      " [ 3.  9.]\n",
      " [ 4. 16.]]\n"
     ]
    }
   ],
   "source": [
    "# Polynomial Features\n",
    "from sklearn.preprocessing import PolynomialFeatures\n",
    "\n",
    "df = pd.DataFrame({\n",
    "    'x': [1, 3, 4]\n",
    "})\n",
    "\n",
    "poly = PolynomialFeatures(degree=2, include_bias=False)\n",
    "print(poly.fit_transform(df))"
   ]
  },
  {
   "cell_type": "code",
   "execution_count": 9,
   "id": "82aeab26",
   "metadata": {},
   "outputs": [
    {
     "name": "stdout",
     "output_type": "stream",
     "text": [
      "        date  year  month  day  weekday\n",
      "0 2025-08-05  2025      8    5        1\n",
      "1 2025-08-07  2025      8    7        3\n"
     ]
    }
   ],
   "source": [
    "# Datetime Features\n",
    "df = pd.DataFrame({'date': pd.to_datetime(['2025-08-05', '2025-08-7'])})\n",
    "\n",
    "df['year'] = df['date'].dt.year\n",
    "df['month'] = df['date'].dt.month\n",
    "df['day'] = df['date'].dt.day\n",
    "df['weekday'] = df['date'].dt.weekday\n",
    "print(df)"
   ]
  },
  {
   "cell_type": "code",
   "execution_count": 10,
   "id": "4e0083a9",
   "metadata": {},
   "outputs": [
    {
     "name": "stdout",
     "output_type": "stream",
     "text": [
      "[[0.         0.57615236 0.40993715 0.40993715 0.57615236 0.        ]\n",
      " [0.57615236 0.         0.40993715 0.40993715 0.         0.57615236]]\n"
     ]
    }
   ],
   "source": [
    "# Text Feature Engineering\n",
    "from sklearn.feature_extraction.text import TfidfVectorizer\n",
    "\n",
    "docs = ['Machine learning is Fun', 'Deep learning is Powerful']\n",
    "\n",
    "vectorizer = TfidfVectorizer()\n",
    "X = vectorizer.fit_transform(docs)\n",
    "print(X.toarray())"
   ]
  },
  {
   "cell_type": "code",
   "execution_count": 11,
   "id": "17ce181b",
   "metadata": {},
   "outputs": [
    {
     "data": {
      "image/png": "[encoded data removed]",
      "text/plain": [
       "<Figure size 640x480 with 2 Axes>"
      ]
     },
     "metadata": {},
     "output_type": "display_data"
    }
   ],
   "source": [
    "# Feature Selection Techniques\n",
    "import seaborn as sns\n",
    "import matplotlib.pyplot as plt\n",
    "\n",
    "df = pd.DataFrame({\n",
    "    'A': [1, 2, 3],\n",
    "    'B': [2, 4, 6],\n",
    "    'C': [3, 6, 9]\n",
    "})\n",
    "corr = df.corr()\n",
    "sns.heatmap(corr, annot=True)\n",
    "plt.show()"
   ]
  }
 ],
 "metadata": {
  "kernelspec": {
   "display_name": "Python 3 (ipykernel)",
   "language": "python",
   "name": "python3"
  },
  "language_info": {
   "codemirror_mode": {
    "name": "ipython",
    "version": 3
   },
   "file_extension": ".py",
   "mimetype": "text/x-python",
   "name": "python",
   "nbconvert_exporter": "python",
   "pygments_lexer": "ipython3",
   "version": "3.11.5"
  }
 },
 "nbformat": 4,
 "nbformat_minor": 5
}
